{
 "cells": [
  {
   "cell_type": "code",
   "execution_count": 1,
   "id": "23335e30-e3de-42a4-bba7-26753c60ea31",
   "metadata": {},
   "outputs": [
    {
     "name": "stdout",
     "output_type": "stream",
     "text": [
      "Requirement already satisfied: kafka-python in c:\\users\\adity\\appdata\\local\\programs\\python\\python312\\lib\\site-packages (2.0.2)\n",
      "Note: you may need to restart the kernel to use updated packages.\n"
     ]
    }
   ],
   "source": [
    "pip install kafka-python"
   ]
  },
  {
   "cell_type": "code",
   "execution_count": 2,
   "id": "787461be-5fad-43dd-bd18-b8a3f62f305d",
   "metadata": {},
   "outputs": [],
   "source": [
    "import pandas as pd\n",
    "from confluent_kafka import Producer\n",
    "from json import dumps\n",
    "from time import sleep\n",
    "import json"
   ]
  },
  {
   "cell_type": "code",
   "execution_count": 3,
   "id": "820ee6c6-3279-4729-8954-6eaaeda8d7d6",
   "metadata": {},
   "outputs": [],
   "source": [
    "# Change the IP and port as needed\n",
    "producer = Producer({'bootstrap.servers': 'your_ip_address:9092'})\n",
    "\n",
    "# Example data to be sent as a message\n",
    "data = {'surname':'prasad'}\n",
    "\n",
    "# Serialize the data to JSON format\n",
    "message_value = dumps(data).encode('utf-8')\n",
    "\n",
    "# Produce the message to the 'demo_test' topic\n",
    "producer.produce('demo_test', value=message_value)"
   ]
  },
  {
   "cell_type": "code",
   "execution_count": null,
   "id": "c8e4c641-0d8d-405b-8ddd-d5bbb5fba9a1",
   "metadata": {},
   "outputs": [],
   "source": [
    "producer.flush()\n",
    "\n",
    "df = pd.read_csv(\"your_path/indexProcessed.csv\")\n",
    "df.head()\n",
    "\n",
    "while True:\n",
    "    dict_stock = df.sample(1).to_dict(orient=\"records\")[0]\n",
    "\n",
    "    # Serialize the data to JSON format\n",
    "    message_value = dumps(dict_stock).encode('utf-8')\n",
    "\n",
    "    # Produce the message to the 'demo_test' topic\n",
    "    producer.produce('demo_test', value=message_value)\n",
    "    producer.flush()\n",
    "    \n",
    "    sleep(1)\n"
   ]
  },
  {
   "cell_type": "code",
   "execution_count": null,
   "id": "11d97c32-983a-4b29-9b68-6e05849bc62e",
   "metadata": {},
   "outputs": [],
   "source": [
    "producer.flush()"
   ]
  },
  {
   "cell_type": "code",
   "execution_count": null,
   "id": "a44ada3d-fdfb-4e0c-8584-06e2d20843dc",
   "metadata": {},
   "outputs": [],
   "source": []
  }
 ],
 "metadata": {
  "kernelspec": {
   "display_name": "Python 3 (ipykernel)",
   "language": "python",
   "name": "python3"
  },
  "language_info": {
   "codemirror_mode": {
    "name": "ipython",
    "version": 3
   },
   "file_extension": ".py",
   "mimetype": "text/x-python",
   "name": "python",
   "nbconvert_exporter": "python",
   "pygments_lexer": "ipython3",
   "version": "3.12.0"
  }
 },
 "nbformat": 4,
 "nbformat_minor": 5
}
