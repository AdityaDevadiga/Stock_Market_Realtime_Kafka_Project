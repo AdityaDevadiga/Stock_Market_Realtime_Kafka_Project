{
 "cells": [
  {
   "cell_type": "code",
   "execution_count": 1,
   "id": "98313f89-682f-463b-9035-c9f203908ae9",
   "metadata": {},
   "outputs": [
    {
     "name": "stdout",
     "output_type": "stream",
     "text": [
      "Requirement already satisfied: boto3 in c:\\users\\adity\\appdata\\local\\programs\\python\\python312\\lib\\site-packages (1.29.6)\n",
      "Requirement already satisfied: botocore<1.33.0,>=1.32.6 in c:\\users\\adity\\appdata\\local\\programs\\python\\python312\\lib\\site-packages (from boto3) (1.32.6)\n",
      "Requirement already satisfied: jmespath<2.0.0,>=0.7.1 in c:\\users\\adity\\appdata\\local\\programs\\python\\python312\\lib\\site-packages (from boto3) (1.0.1)\n",
      "Requirement already satisfied: s3transfer<0.8.0,>=0.7.0 in c:\\users\\adity\\appdata\\local\\programs\\python\\python312\\lib\\site-packages (from boto3) (0.7.0)\n",
      "Requirement already satisfied: python-dateutil<3.0.0,>=2.1 in c:\\users\\adity\\appdata\\local\\programs\\python\\python312\\lib\\site-packages (from botocore<1.33.0,>=1.32.6->boto3) (2.8.2)\n",
      "Requirement already satisfied: urllib3<2.1,>=1.25.4 in c:\\users\\adity\\appdata\\local\\programs\\python\\python312\\lib\\site-packages (from botocore<1.33.0,>=1.32.6->boto3) (2.0.7)\n",
      "Requirement already satisfied: six>=1.5 in c:\\users\\adity\\appdata\\local\\programs\\python\\python312\\lib\\site-packages (from python-dateutil<3.0.0,>=2.1->botocore<1.33.0,>=1.32.6->boto3) (1.16.0)\n",
      "Note: you may need to restart the kernel to use updated packages.\n"
     ]
    }
   ],
   "source": [
    "pip install boto3"
   ]
  },
  {
   "cell_type": "code",
   "execution_count": null,
   "id": "76a0a981-a351-424b-b49e-8ef2f3ee22d7",
   "metadata": {},
   "outputs": [],
   "source": [
    "from confluent_kafka import Consumer, KafkaException\n",
    "import boto3\n",
    "import json\n",
    "\n",
    "# Change the IP and port as needed\n",
    "bootstrap_servers = ':9092'\n",
    "\n",
    "# Consumer configuration\n",
    "consumer_config = {\n",
    "    'bootstrap.servers': bootstrap_servers,\n",
    "    'group.id': 'my_consumer_group',\n",
    "    'auto.offset.reset': 'earliest',  # Change to 'latest' if you want to start consuming from the latest offset\n",
    "    'enable.auto.commit': True,\n",
    "    'auto.commit.interval.ms': 1000,\n",
    "}\n",
    "\n",
    "# Create a Kafka consumer instance\n",
    "consumer = Consumer(consumer_config)\n",
    "\n",
    "# Subscribe to the 'demo_test' topic\n",
    "consumer.subscribe(['demo_test'])\n",
    "\n",
    "# S3 Configuration\n",
    "s3_bucket_name = 'your_bucket_name'\n",
    "s3_prefix = ''\n",
    "\n",
    "# Create an S3 client\n",
    "s3 = boto3.client('s3')\n",
    "\n",
    "try:\n",
    "    while True:\n",
    "        # Poll for messages\n",
    "        message = consumer.poll(1.0)  # Adjust the timeout as needed\n",
    "\n",
    "        if message is not None:\n",
    "            # Decode and print the message value\n",
    "            message_value = message.value().decode('utf-8')\n",
    "            print(f\"Received message: {message_value}\")\n",
    "\n",
    "            # Upload the message to S3\n",
    "            s3_key = f\"{s3_prefix}{message.offset()}.json\"\n",
    "            s3.put_object(Body=message_value, Bucket=s3_bucket_name, Key=s3_key)\n",
    "\n",
    "except KeyboardInterrupt:\n",
    "    pass\n",
    "finally:\n",
    "    # Close down consumer to commit final offsets.\n",
    "    consumer.close()\n"
   ]
  },
  {
   "cell_type": "code",
   "execution_count": null,
   "id": "05681355-6775-4074-ada8-2eabe361c6b2",
   "metadata": {},
   "outputs": [],
   "source": []
  },
  {
   "cell_type": "code",
   "execution_count": null,
   "id": "e59192d8-0b19-4a5c-9ecd-e64bc5fcb202",
   "metadata": {},
   "outputs": [],
   "source": []
  }
 ],
 "metadata": {
  "kernelspec": {
   "display_name": "Python 3 (ipykernel)",
   "language": "python",
   "name": "python3"
  },
  "language_info": {
   "codemirror_mode": {
    "name": "ipython",
    "version": 3
   },
   "file_extension": ".py",
   "mimetype": "text/x-python",
   "name": "python",
   "nbconvert_exporter": "python",
   "pygments_lexer": "ipython3",
   "version": "3.12.0"
  }
 },
 "nbformat": 4,
 "nbformat_minor": 5
}
